{
 "cells": [
  {
   "cell_type": "code",
   "execution_count": 7,
   "metadata": {},
   "outputs": [],
   "source": [
    "import pickle\n",
    "import torch"
   ]
  },
  {
   "cell_type": "code",
   "execution_count": 8,
   "metadata": {},
   "outputs": [],
   "source": [
    "folder=\"/data/home/umang/Trajectory_project/GPS-MTM/outputs/mtm_test/2025-08-16_15-56-29/test_outputs\"\n",
    "pred_pickle_path=\"{}/predictions_batch_0.pkl\".format(folder)\n",
    "batch_pickle_path = \"{}/ground_truth_batch_0.pkl\".format(folder)\n",
    "attention_pickle_path = \"{}/attention_masks_batch_0.pkl\".format(folder)\n",
    "masks_pickle_path = \"{}/masks_batch_0.pkl\".format(folder)\n",
    "with open(pred_pickle_path, 'rb') as f:\n",
    "    predictions = pickle.load(f)\n",
    "\n",
    "with open(batch_pickle_path, 'rb') as f:\n",
    "    batch = pickle.load(f)\n",
    "\n",
    "with open(attention_pickle_path, 'rb') as f:\n",
    "    attention_masks = pickle.load(f)\n",
    "\n",
    "with open(masks_pickle_path, 'rb') as f:\n",
    "    masks = pickle.load(f)"
   ]
  },
  {
   "cell_type": "code",
   "execution_count": 9,
   "metadata": {},
   "outputs": [
    {
     "data": {
      "text/plain": [
       "221"
      ]
     },
     "execution_count": 9,
     "metadata": {},
     "output_type": "execute_result"
    }
   ],
   "source": [
    "len(masks[\"states\"])"
   ]
  },
  {
   "cell_type": "code",
   "execution_count": 10,
   "metadata": {},
   "outputs": [
    {
     "data": {
      "text/plain": [
       "torch.Size([32, 221, 28])"
      ]
     },
     "execution_count": 10,
     "metadata": {},
     "output_type": "execute_result"
    }
   ],
   "source": [
    "predictions[\"states\"].shape"
   ]
  },
  {
   "cell_type": "code",
   "execution_count": 11,
   "metadata": {},
   "outputs": [
    {
     "data": {
      "text/plain": [
       "torch.Size([32, 221, 11])"
      ]
     },
     "execution_count": 11,
     "metadata": {},
     "output_type": "execute_result"
    }
   ],
   "source": [
    "predictions[\"actions\"].shape"
   ]
  },
  {
   "cell_type": "code",
   "execution_count": 12,
   "metadata": {},
   "outputs": [],
   "source": [
    "# get the most frequently top-5 most repeated in ground_truth_list_States\n",
    "# #don't use torch top-k..\n",
    "ground_truth_list_states = []\n",
    "for i in range(len(attention_masks)):\n",
    "     # first zero mask is first time when attention_masks[i] becomes zero\n",
    "    zero_indices = (attention_masks[i].flatten() == 0).nonzero(as_tuple=True)[0]\n",
    "    first_zero_mask = zero_indices[0].item() if len(zero_indices) > 0 else attention_masks[i].numel()\n",
    "    \n",
    "    ground_truth_states= batch[\"states\"][i, :first_zero_mask, :]\n",
    "    ground_truth_states = torch.argmax(ground_truth_states, dim=-1)\n",
    "    ground_truth_list_states.append(ground_truth_states)\n",
    "\n",
    "k=5\n",
    "ground_truth_list_states = torch.cat(ground_truth_list_states).flatten()\n",
    "unique, counts = torch.unique(ground_truth_list_states, return_counts=True)\n",
    "top_k_ground_truth = unique[torch.topk(counts, k=k).indices]\n",
    "top_k_ground_truth\n",
    "\n",
    "top_1_ground_truth = unique[torch.topk(counts, k=1).indices]\n",
    "top_5_ground_truth = unique[torch.topk(counts, k=5).indices]\n",
    "top_10_ground_truth = unique[torch.topk(counts, k=10).indices]\n",
    "top_20_ground_truth = unique[torch.topk(counts, k=20).indices]"
   ]
  },
  {
   "cell_type": "code",
   "execution_count": 13,
   "metadata": {},
   "outputs": [
    {
     "name": "stdout",
     "output_type": "stream",
     "text": [
      "first_zero_mask:  65\n",
      "tensor([22,  0, 22,  0, 22,  0, 22,  0, 22,  0, 22, 16, 22,  0, 22,  0, 22,  0,\n",
      "        22,  0, 22,  0, 22,  0, 22,  0, 22,  0, 22, 16, 22,  0, 22,  0, 22,  0,\n",
      "        22,  0, 22,  0, 22,  0, 22,  0, 22,  8, 22,  0, 22,  0,  4, 22,  0, 22,\n",
      "         0, 22,  0, 22,  0, 22,  0, 22,  0,  3,  0])\n",
      "first_zero_mask:  82\n",
      "tensor([22,  9, 16, 22, 10, 22,  9, 16, 22, 16, 22, 10, 22,  9, 16, 22,  9, 22,\n",
      "        22, 22, 16, 22, 10, 22,  9, 16, 22,  9, 16, 22,  4, 16, 22, 16, 22, 16,\n",
      "        22,  4, 22, 22, 16, 22, 10, 22,  9, 16, 22,  9, 16, 22,  4, 16, 22, 16,\n",
      "        22, 16, 22,  4, 22, 22, 16, 22,  9, 22,  4, 16, 22,  9, 22, 16, 22, 10,\n",
      "        22,  9, 16, 22, 10, 22, 16, 22,  4, 22])\n",
      "first_zero_mask:  75\n",
      "tensor([22, 16, 22,  6, 22,  9,  4, 16, 22, 16, 22, 16, 22, 26, 22, 16, 22, 18,\n",
      "        22, 22, 22, 16, 22,  6, 22,  6, 22, 16, 22, 16, 22,  6, 22, 16, 22, 18,\n",
      "        27, 22,  6, 22,  6, 22, 16, 22, 16, 22,  6, 22, 16, 22, 18, 27, 22,  9,\n",
      "         4, 16, 22, 16, 22,  9,  4, 16, 22, 16, 22,  6, 22,  9, 16, 22, 18, 22,\n",
      "        25, 16, 22])\n",
      "first_zero_mask:  79\n",
      "tensor([22, 18, 22, 20, 16, 22, 25, 16, 22, 18, 22, 16,  3, 22,  8, 22, 22, 22,\n",
      "        16, 22, 16, 20, 22,  9, 22, 16, 20, 22,  4, 22, 16, 22, 16, 22, 16, 20,\n",
      "        22, 16, 20, 22, 16, 20, 22,  9, 22, 16, 20, 22,  4, 22, 16, 22, 16, 22,\n",
      "        16, 20, 22, 16, 16, 22, 16, 16, 22,  9, 22, 25, 16, 22, 20, 22,  4, 22,\n",
      "        16, 22, 16, 20, 22, 20, 22])\n",
      "first_zero_mask:  63\n",
      "tensor([22, 16, 22, 22, 22, 16, 22, 16, 22, 16, 22, 16, 22,  3, 22, 16, 22, 16,\n",
      "        22, 16, 22, 16, 22, 16, 22, 22, 22, 16, 22, 16, 22, 16, 22, 22, 22, 16,\n",
      "        22, 16, 22, 16, 22, 22, 22, 16, 22, 16, 22, 16, 22, 22, 22, 16, 22, 22,\n",
      "        22, 16, 22, 22, 22, 16, 22, 20, 22])\n",
      "first_zero_mask:  71\n",
      "tensor([22, 16, 22,  4, 22,  3, 16, 22, 16, 22, 16, 22, 22, 22, 16, 22,  4, 16,\n",
      "        22,  4, 16, 22, 16, 22,  4, 16, 22,  4, 16, 22, 22, 22, 22, 22, 22, 22,\n",
      "         4, 16, 22,  4, 16, 22, 16, 22,  4, 16, 22,  4, 16, 22, 22, 22, 22, 22,\n",
      "        22, 22, 14, 22, 16, 22,  4, 16, 22,  4, 22, 14, 22, 16, 22, 22, 22])\n",
      "first_zero_mask:  88\n",
      "tensor([22, 10, 22, 10, 22, 10, 22, 27, 16, 10, 22, 27, 16, 22, 10, 22, 18, 22,\n",
      "        26, 25, 22, 16, 22, 10, 22, 27, 16, 10, 22, 10, 22, 27, 16, 10, 22, 10,\n",
      "        22, 14, 25, 22, 16, 22, 26, 22, 10, 22, 27, 16, 10, 22, 10, 22, 27, 16,\n",
      "        10, 22, 10, 22, 14, 25, 22, 16, 22, 14, 22, 27, 22, 22, 10, 22, 27, 22,\n",
      "        22, 27, 16, 10, 22, 10, 22, 27, 18, 22, 16, 22, 22, 22, 22, 22])\n",
      "first_zero_mask:  99\n",
      "tensor([22, 27, 22, 27, 22, 27, 22, 27, 22, 27, 20, 27, 22, 27, 22, 27, 22, 18,\n",
      "        20, 22, 16, 22, 20, 25, 16, 22, 20, 22, 27, 22, 27, 22, 27, 22, 27, 20,\n",
      "        27, 22, 27,  6, 22, 20, 16, 20, 22, 16, 22, 20, 16, 16, 22, 20, 22, 27,\n",
      "        22, 27, 22, 27, 22, 27, 20, 27, 22, 27,  6, 22, 20, 16, 20, 22, 20, 22,\n",
      "        20, 16, 16, 22, 20, 22, 27, 20, 27, 22, 27, 22, 27, 22, 27, 22, 27, 22,\n",
      "        18, 16, 22, 16, 22,  6, 22, 16, 22])\n",
      "first_zero_mask:  92\n",
      "tensor([ 3, 27,  3, 27,  3, 27, 22,  9, 22,  3, 27, 22, 16, 22,  3, 27, 22,  3,\n",
      "        16, 22,  3, 22, 22, 22,  3, 27,  3, 27, 22, 20, 22,  3, 27,  3, 27,  3,\n",
      "        27, 22,  3, 22,  3, 27, 22, 27, 22,  3, 27,  3, 27, 22, 16, 22,  3, 27,\n",
      "         3, 27,  3, 27, 22,  3, 22,  3, 27, 22, 27, 22,  3, 27,  3, 27, 22, 16,\n",
      "        22,  3, 27, 22, 16, 22,  3, 27,  3, 27, 22,  3, 16, 22,  3, 18, 22, 22,\n",
      "        22,  3])\n",
      "first_zero_mask:  87\n",
      "tensor([22, 20, 16, 20, 22, 20, 22, 20, 22, 20, 16, 22, 20, 22, 20, 22, 18, 16,\n",
      "        18, 22, 20,  3, 22, 20, 16, 20, 22, 20, 22, 20, 22, 20, 22, 20, 22, 22,\n",
      "        18, 22, 16, 25, 22, 16, 25, 22, 20, 16, 20, 22, 20, 22, 20, 22, 20, 22,\n",
      "        20, 22, 22, 18, 22, 16, 23, 22, 16, 25, 22, 20, 22, 20, 16, 22, 20, 22,\n",
      "        20, 22, 20, 22, 20, 22, 20, 16, 22, 23, 16, 22,  3, 16, 22])\n",
      "first_zero_mask:  67\n",
      "tensor([22, 27, 22, 27, 22, 27, 22, 27, 22, 27, 22, 27, 22, 22, 22, 22, 22, 27,\n",
      "        22, 27, 22, 27, 22, 27, 22, 27, 22, 18, 22, 22, 22, 22, 22, 27, 22, 27,\n",
      "        22, 27, 22, 27, 22, 27, 22, 18, 22, 22, 22, 22, 22, 27, 22, 27, 22, 27,\n",
      "        22, 27, 22, 22, 27, 22, 22, 22, 22, 20, 22, 27, 22])\n",
      "first_zero_mask:  79\n",
      "tensor([22, 10,  2, 16,  2, 16, 22, 10, 22,  6, 22, 22,  2, 22, 18, 22, 18, 22,\n",
      "        22, 22, 10,  2, 16,  2, 16, 22, 10, 22, 16, 22, 18, 22,  6, 22, 22, 23,\n",
      "        22,  2, 22, 16, 22, 25, 22, 10,  2, 16,  2, 16, 22, 10, 22, 16, 22, 18,\n",
      "        22,  6, 22, 22, 23, 22,  2, 22, 16, 22, 13, 22, 10, 22, 10, 22, 10, 22,\n",
      "        10, 22, 18, 22, 22, 22, 23])\n",
      "first_zero_mask:  122\n",
      "tensor([22, 18, 22, 16, 22, 22, 22, 16, 16, 22, 16, 26, 22, 25, 22, 18, 16, 26,\n",
      "        25, 22,  4, 16, 22, 16, 22, 18, 22, 18, 22, 16, 22,  4, 16, 22, 25, 22,\n",
      "        16, 22,  4, 16, 22, 18, 22, 16, 22, 22, 22, 16, 26, 22, 18, 16, 16, 26,\n",
      "        27,  3, 22, 18, 16, 16, 22, 16, 22,  4, 16, 22, 25, 22, 16, 22,  4, 16,\n",
      "        22, 18, 22, 16, 22, 22, 22, 16, 26, 22, 18, 16, 16, 26, 27,  3, 22, 18,\n",
      "        16, 16, 22, 16, 26, 22, 23, 22, 18, 16, 26, 25, 22,  4, 22, 16, 22, 16,\n",
      "        22,  4, 16, 22, 18,  8, 22, 22, 18, 16, 22, 16, 16, 22])\n",
      "first_zero_mask:  70\n",
      "tensor([22, 27, 22, 27, 22, 27, 22, 27, 22, 27, 22, 27, 22, 27, 22, 27, 22, 27,\n",
      "        22, 27, 22, 27, 22, 27, 22, 27, 22, 22, 22, 27, 22, 27, 22, 27, 22, 27,\n",
      "        22, 27, 22, 27, 22, 27, 22, 27, 22, 22, 22, 27, 22, 22, 22, 27, 22, 27,\n",
      "        22, 27, 22, 27, 22, 27, 22, 27, 22, 27, 22, 27, 16, 27, 16, 22])\n",
      "first_zero_mask:  82\n",
      "tensor([22, 16, 16, 22,  3, 22, 22, 16, 22, 22, 25, 22, 16, 22,  9, 16, 22, 16,\n",
      "        16, 22, 16, 22, 22, 16, 22, 22, 16, 22,  9, 22, 13, 22, 16, 22,  9, 22,\n",
      "         9, 22, 16, 22, 16, 22, 22, 16, 22,  9, 22, 23, 22, 16, 22,  9, 22,  9,\n",
      "        22, 16, 22, 16, 22, 22, 16, 22, 16, 22,  9, 16, 22,  9, 16, 22, 16, 16,\n",
      "        22, 16, 22, 16, 22, 16, 16, 22, 22, 22])\n",
      "first_zero_mask:  77\n",
      "tensor([22, 23, 22, 16, 22, 27, 22, 27, 22, 27, 22, 27,  8, 22, 26, 22, 16, 22,\n",
      "        16,  8, 22, 22, 22, 22, 16, 22, 23, 22, 22, 27, 22, 27, 22,  8, 22, 22,\n",
      "        22, 16, 23, 22, 22, 16, 22, 13, 22, 22, 27, 22, 27, 22, 16, 22, 22, 22,\n",
      "        16, 23, 22, 27, 22, 27, 22, 13, 22, 22, 13, 22, 22, 27, 22, 27, 22, 13,\n",
      "        22, 22, 22, 22, 16])\n",
      "first_zero_mask:  125\n",
      "tensor([ 3, 22,  3, 22, 16, 22,  3, 22,  3, 16, 22,  3, 22,  3, 16, 22,  3, 22,\n",
      "         3, 16, 22,  3, 22, 18, 22,  3, 22, 20, 22,  3, 22,  3, 22,  3, 22,  3,\n",
      "        22,  9, 16, 22,  3, 22,  3, 22, 18, 22,  3, 22,  9, 16, 22,  3, 22,  6,\n",
      "        22,  3, 22, 16, 22,  3, 16, 22,  3, 22,  3, 22,  3, 22,  9, 16, 22,  3,\n",
      "        22,  3, 22, 18, 22,  3, 22,  9, 16, 22,  3, 22,  3, 22,  3, 22, 16, 22,\n",
      "         3, 16, 22,  3, 22,  3, 16, 22,  3, 22,  3, 22, 16, 22,  3, 22,  3, 22,\n",
      "         3, 22,  9, 16, 22,  6, 22,  3, 22,  3, 22, 16, 22,  3, 16, 22,  3])\n",
      "first_zero_mask:  125\n",
      "tensor([ 3, 22,  3, 22, 16, 22,  3, 22,  3, 16, 22,  3, 22,  3, 16, 22,  3, 22,\n",
      "         3, 16, 22,  3, 22, 18, 22,  3, 22, 20, 22,  3, 22,  3, 22,  3, 22,  3,\n",
      "        22,  9, 16, 22,  3, 22,  3, 22, 18, 22,  3, 22,  9, 16, 22,  3, 22,  6,\n",
      "        22,  3, 22, 16, 22,  3, 16, 22,  3, 22,  3, 22,  3, 22,  9, 16, 22,  3,\n",
      "        22,  3, 22, 18, 22,  3, 22,  9, 16, 22,  3, 22,  3, 22,  3, 22, 16, 22,\n",
      "         3, 16, 22,  3, 22,  3, 16, 22,  3, 22,  3, 22, 16, 22,  3, 22,  3, 22,\n",
      "         3, 22,  9, 16, 22,  6, 22,  3, 22,  3, 22, 16, 22,  3, 16, 22,  3])\n",
      "first_zero_mask:  85\n",
      "tensor([22,  0, 22,  0, 22,  0, 22, 22,  0, 22,  0, 16,  0, 22,  0, 22, 18, 22,\n",
      "         0, 22,  0, 22,  0,  8, 22,  0, 22,  0, 22,  0,  8, 22,  0, 22, 16, 16,\n",
      "        22, 25, 22,  0, 22, 16, 22,  0, 22,  0, 22,  0,  8, 22,  0, 22,  0, 22,\n",
      "         0,  8, 22,  0, 22,  8, 16, 22, 25, 22,  0, 22, 16, 22,  0, 22,  0, 22,\n",
      "         0, 22,  0, 22,  0, 16,  0, 22, 18, 22,  4,  8, 22])\n",
      "first_zero_mask:  85\n",
      "tensor([22,  0, 22,  0, 22,  0, 22, 22,  0, 22,  0, 16,  0, 22,  0, 22, 18, 22,\n",
      "         0, 22,  0, 22,  0,  8, 22,  0, 22,  0, 22,  0,  8, 22,  0, 22, 16, 16,\n",
      "        22, 25, 22,  0, 22, 16, 22,  0, 22,  0, 22,  0,  8, 22,  0, 22,  0, 22,\n",
      "         0,  8, 22,  0, 22,  8, 16, 22, 25, 22,  0, 22, 16, 22,  0, 22,  0, 22,\n",
      "         0, 22,  0, 22,  0, 16,  0, 22, 18, 22,  4,  8, 22])\n",
      "first_zero_mask:  99\n",
      "tensor([22, 22, 22,  8, 22, 23, 22,  9, 22, 22, 22,  8, 22, 23, 22,  8, 22,  8,\n",
      "        22, 16, 22, 18, 22, 22, 22,  8, 22, 23, 22,  9, 22,  8, 22, 22, 23, 22,\n",
      "        22, 22,  8, 22, 23, 22, 18,  8, 22, 18, 22, 26, 22, 22, 22,  8, 22, 23,\n",
      "        22,  9, 22, 16, 22, 22, 23, 22, 22, 22,  8, 22, 25, 22, 18,  8, 22, 18,\n",
      "        22, 26, 22, 22, 22,  8, 22, 23, 22, 22, 12, 22, 18, 22,  8, 22,  9, 22,\n",
      "        16,  8, 22, 16, 22, 22, 22, 16, 22])\n",
      "first_zero_mask:  75\n",
      "tensor([22, 10, 22, 10, 22, 22, 22, 16, 22, 10, 22, 10, 22, 22, 22, 22, 22, 16,\n",
      "         3, 22, 16, 20, 22, 22, 22, 16, 22, 22, 22, 16, 22,  4, 22, 16, 22, 10,\n",
      "        22, 22, 22, 22, 22, 22, 22, 16, 22, 22, 22, 16, 22,  4, 22, 16, 22, 10,\n",
      "        22, 22, 22, 22, 22, 13, 22, 10, 22, 10, 22, 10, 22, 10, 22,  4, 22,  4,\n",
      "        22, 16, 22])\n",
      "first_zero_mask:  82\n",
      "tensor([22,  9, 16, 22, 10, 22,  9, 16, 22, 16, 22, 10, 22,  9, 16, 22,  9, 22,\n",
      "        22, 22, 16, 22, 10, 22,  9, 16, 22,  9, 16, 22,  4, 16, 22, 16, 22, 16,\n",
      "        22,  4, 22, 22, 16, 22, 10, 22,  9, 16, 22,  9, 16, 22,  4, 16, 22, 16,\n",
      "        22, 16, 22,  4, 22, 22, 16, 22,  9, 22,  4, 16, 22,  9, 22, 16, 22, 10,\n",
      "        22,  9, 16, 22, 10, 22, 16, 22,  4, 22])\n",
      "first_zero_mask:  88\n",
      "tensor([22, 16, 16, 22, 16, 22,  9, 22, 16,  3, 22, 16, 16, 22, 16, 22, 16, 22,\n",
      "         9, 22, 16,  3, 22, 16, 22,  3, 22, 22,  3, 22, 22, 16, 16, 22, 16, 22,\n",
      "        16, 22, 16, 16, 22, 16, 22, 16, 16, 22, 16, 22, 16, 16, 22, 16, 22, 16,\n",
      "        22, 16, 16, 22, 16, 22, 16, 16, 22, 16, 22, 16, 22, 16, 22, 16, 16, 22,\n",
      "        16, 22, 16,  3, 16, 22,  3, 22, 16, 22, 16, 22,  3, 22, 18, 22])\n",
      "first_zero_mask:  90\n",
      "tensor([22, 25, 22, 16, 22,  7, 22,  3, 22,  3, 22, 22, 22,  3, 22, 18, 22,  7,\n",
      "        22,  3, 22,  3, 22, 22, 22, 16, 22, 22, 22,  3, 22,  3, 22, 12, 22, 22,\n",
      "        22,  7, 22,  7, 22, 16, 22,  3, 22,  3, 22, 22, 22, 16, 22, 22, 22,  3,\n",
      "        22,  3, 22,  3, 22, 22, 22, 16, 22, 16, 22,  7, 22,  3, 22, 22, 22,  4,\n",
      "        22, 16, 22, 16, 22,  3, 22,  3, 22, 22, 22, 22, 22, 22, 16, 22,  7, 22])\n",
      "first_zero_mask:  99\n",
      "tensor([22,  3, 22, 16, 22,  3, 22,  3, 22, 16, 22, 22, 22, 22, 22, 22, 22, 22,\n",
      "        16, 22, 22, 22, 22, 22, 22, 18, 22, 18, 22, 16, 22,  9, 22, 16, 22, 22,\n",
      "        22,  4, 16, 22, 22, 22,  4, 16, 22, 22, 22, 16, 22, 16,  3, 22,  4, 22,\n",
      "         9, 22, 16, 22, 22, 22,  4, 16, 22, 22, 22,  4, 16, 22, 22, 22, 16, 22,\n",
      "        16, 16, 22,  4, 22, 22, 16, 22, 22, 22, 22, 22, 22,  3, 22,  9, 22, 16,\n",
      "        22, 22, 22, 22, 22, 18, 22, 16, 22])\n",
      "first_zero_mask:  117\n",
      "tensor([22, 22, 22, 16, 22,  6, 22,  6, 22, 22, 22, 16, 22, 18, 16, 22, 16, 22,\n",
      "         6, 22, 16, 22,  6, 22, 16, 22, 16, 22,  6, 22, 16, 22,  6, 22,  6, 22,\n",
      "        16, 22, 16, 22, 18, 16, 18, 22, 18, 22, 22, 22, 18, 16, 22, 16, 22,  6,\n",
      "        22, 16, 22,  6, 22, 16, 22, 16, 22,  6, 22, 16, 22,  6, 22,  6, 22, 16,\n",
      "        22, 16, 22, 18, 16, 18, 22, 18, 22, 22, 22, 18, 16, 22, 16, 22,  6, 22,\n",
      "        16, 22,  2, 22, 22, 22, 13, 16, 16, 22, 22, 22, 16, 22, 16, 22,  4, 16,\n",
      "        22, 16, 22, 18, 16, 16, 22, 16, 22])\n",
      "first_zero_mask:  79\n",
      "tensor([22, 18, 22, 20, 16, 22, 25, 16, 22, 18, 22, 16,  3, 22,  8, 22, 22, 22,\n",
      "        16, 22, 16, 20, 22,  9, 22, 16, 20, 22,  4, 22, 16, 22, 16, 22, 16, 20,\n",
      "        22, 16, 20, 22, 16, 20, 22,  9, 22, 16, 20, 22,  4, 22, 16, 22, 16, 22,\n",
      "        16, 20, 22, 16, 16, 22, 16, 16, 22,  9, 22, 25, 16, 22, 20, 22,  4, 22,\n",
      "        16, 22, 16, 20, 22, 20, 22])\n",
      "first_zero_mask:  75\n",
      "tensor([22, 16, 22,  6, 22,  9,  4, 16, 22, 16, 22, 16, 22, 26, 22, 16, 22, 18,\n",
      "        22, 22, 22, 16, 22,  6, 22,  6, 22, 16, 22, 16, 22,  6, 22, 16, 22, 18,\n",
      "        27, 22,  6, 22,  6, 22, 16, 22, 16, 22,  6, 22, 16, 22, 18, 27, 22,  9,\n",
      "         4, 16, 22, 16, 22,  9,  4, 16, 22, 16, 22,  6, 22,  9, 16, 22, 18, 22,\n",
      "        25, 16, 22])\n",
      "first_zero_mask:  71\n",
      "tensor([22, 16, 22,  4, 22,  3, 16, 22, 16, 22, 16, 22, 22, 22, 16, 22,  4, 16,\n",
      "        22,  4, 16, 22, 16, 22,  4, 16, 22,  4, 16, 22, 22, 22, 22, 22, 22, 22,\n",
      "         4, 16, 22,  4, 16, 22, 16, 22,  4, 16, 22,  4, 16, 22, 22, 22, 22, 22,\n",
      "        22, 22, 14, 22, 16, 22,  4, 16, 22,  4, 22, 14, 22, 16, 22, 22, 22])\n",
      "first_zero_mask:  88\n",
      "tensor([22, 10, 22, 10, 22, 10, 22, 27, 16, 10, 22, 27, 16, 22, 10, 22, 18, 22,\n",
      "        26, 25, 22, 16, 22, 10, 22, 27, 16, 10, 22, 10, 22, 27, 16, 10, 22, 10,\n",
      "        22, 14, 25, 22, 16, 22, 26, 22, 10, 22, 27, 16, 10, 22, 10, 22, 27, 16,\n",
      "        10, 22, 10, 22, 14, 25, 22, 16, 22, 14, 22, 27, 22, 22, 10, 22, 27, 22,\n",
      "        22, 27, 16, 10, 22, 10, 22, 27, 18, 22, 16, 22, 22, 22, 22, 22])\n",
      "first_zero_mask:  90\n",
      "tensor([22, 25, 22, 16, 22,  7, 22,  3, 22,  3, 22, 22, 22,  3, 22, 18, 22,  7,\n",
      "        22,  3, 22,  3, 22, 22, 22, 16, 22, 22, 22,  3, 22,  3, 22, 12, 22, 22,\n",
      "        22,  7, 22,  7, 22, 16, 22,  3, 22,  3, 22, 22, 22, 16, 22, 22, 22,  3,\n",
      "        22,  3, 22,  3, 22, 22, 22, 16, 22, 16, 22,  7, 22,  3, 22, 22, 22,  4,\n",
      "        22, 16, 22, 16, 22,  3, 22,  3, 22, 22, 22, 22, 22, 22, 16, 22,  7, 22])\n"
     ]
    }
   ],
   "source": [
    "predictions_list_states=[]\n",
    "predictions_list_actions=[]\n",
    "ground_truth_list_states=[]\n",
    "ground_truth_list_actions=[]\n",
    "correct_list=[]\n",
    "\n",
    "for i in range(len(attention_masks)):\n",
    "    # first zero mask is first time when attention_masks[i] becomes zero\n",
    "    zero_indices = (attention_masks[i].flatten() == 0).nonzero(as_tuple=True)[0]\n",
    "    first_zero_mask = zero_indices[0].item() if len(zero_indices) > 0 else attention_masks[i].numel()\n",
    "    \n",
    "    print(\"first_zero_mask: \", first_zero_mask)\n",
    "    predictions_states= predictions[\"states\"][i, :first_zero_mask, :]\n",
    "    predictions_actions= predictions[\"actions\"][i, :first_zero_mask, :]\n",
    "    ground_truth_states= batch[\"states\"][i, :first_zero_mask, :]\n",
    "    ground_truth_actions= batch[\"actions\"][i, :first_zero_mask, :]\n",
    "\n",
    "    # take argmax of predictions states on last dimension\n",
    "    predictions_states = torch.argmax(predictions_states, dim=-1)\n",
    "    ground_truth_states = torch.argmax(ground_truth_states, dim=-1)\n",
    "\n",
    "    predictions_list_states.append(predictions_states)\n",
    "    predictions_list_actions.append(predictions_actions)\n",
    "    ground_truth_list_states.append(ground_truth_states)\n",
    "    ground_truth_list_actions.append(ground_truth_actions)\n",
    "\n",
    "    print(ground_truth_states)\n",
    "    correct = (predictions_states == ground_truth_states).float()\n",
    "    correct_list.append(correct)\n"
   ]
  },
  {
   "cell_type": "code",
   "execution_count": 20,
   "metadata": {},
   "outputs": [
    {
     "data": {
      "text/plain": [
       "(torch.Size([2771]), torch.Size([2771]))"
      ]
     },
     "execution_count": 20,
     "metadata": {},
     "output_type": "execute_result"
    }
   ],
   "source": [
    "predictions_list_states=torch.cat(predictions_list_states).flatten()\n",
    "ground_truth_list_states=torch.cat(ground_truth_list_states).flatten()\n",
    "predictions_list_states.shape, ground_truth_list_states.shape"
   ]
  },
  {
   "cell_type": "code",
   "execution_count": 32,
   "metadata": {},
   "outputs": [
    {
     "name": "stdout",
     "output_type": "stream",
     "text": [
      "Number of correct predictions in tensor([22]) ground truth: 0\n",
      "Accuracy of correct predictions in tensor([22]) ground truth: 0.0\n",
      "Number of correct predictions in tensor([22, 16,  3, 27,  0]) ground truth: 0\n",
      "Accuracy of correct predictions in tensor([22, 16,  3, 27,  0]) ground truth: 0.0\n",
      "Number of correct predictions in tensor([22, 16,  3, 27,  0, 18, 20,  4, 10,  9]) ground truth: 25\n",
      "Accuracy of correct predictions in tensor([22, 16,  3, 27,  0, 18, 20,  4, 10,  9]) ground truth: 0.009652509354054928\n",
      "Number of correct predictions in tensor([22, 16,  3, 27,  0, 18, 20,  4, 10,  9,  6,  8, 25, 23, 26,  7,  2, 14,\n",
      "        13, 12]) ground truth: 42\n",
      "Accuracy of correct predictions in tensor([22, 16,  3, 27,  0, 18, 20,  4, 10,  9,  6,  8, 25, 23, 26,  7,  2, 14,\n",
      "        13, 12]) ground truth: 0.015156983397901058\n"
     ]
    }
   ],
   "source": [
    "# get the number of correct predictions for classes in top_10_ground_truth\n",
    "top_k=[top_1_ground_truth, top_5_ground_truth, top_10_ground_truth, top_20_ground_truth]\n",
    "for i in range(len(top_k)):\n",
    "    filtered_gt = ground_truth_list_states[(ground_truth_list_states.unsqueeze(-1) == top_k[i]).any(dim=-1)]\n",
    "    filtered_pred = predictions_list_states[(ground_truth_list_states.unsqueeze(-1) == top_k[i]).any(dim=-1)]\n",
    "\n",
    "    # get the number of correct predictions and accuracy\n",
    "    correct_predictions = (filtered_pred == filtered_gt).sum()\n",
    "    accuracy = correct_predictions / filtered_gt.numel()\n",
    "    print(f\"Number of correct predictions in {top_k[i]} ground truth: {correct_predictions.item()}\")\n",
    "    print(f\"Accuracy of correct predictions in {top_k[i]} ground truth: {accuracy.item()}\")"
   ]
  }
 ],
 "metadata": {
  "kernelspec": {
   "display_name": "mtm",
   "language": "python",
   "name": "python3"
  },
  "language_info": {
   "codemirror_mode": {
    "name": "ipython",
    "version": 3
   },
   "file_extension": ".py",
   "mimetype": "text/x-python",
   "name": "python",
   "nbconvert_exporter": "python",
   "pygments_lexer": "ipython3",
   "version": "3.10.16"
  }
 },
 "nbformat": 4,
 "nbformat_minor": 2
}
